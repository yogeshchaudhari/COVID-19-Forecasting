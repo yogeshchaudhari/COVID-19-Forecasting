{
 "cells": [
  {
   "cell_type": "code",
   "execution_count": null,
   "metadata": {},
   "outputs": [],
   "source": [
    "import os\n",
    "import gc\n",
    "os.environ[\"CUDA_VISIBLE_DEVICES\"] = \"1\"\n",
    "os.environ['TF_CPP_MIN_LOG_LEVEL'] = \"0\"\n",
    "\n",
    "import pandas as pd\n",
    "import numpy as np\n",
    "import matplotlib.pyplot as plt\n",
    "import matplotlib.figure as fig\n",
    "import statsmodels.api as sm\n",
    "import statsmodels.tsa.api as tsa\n",
    "# print(\"statsmodels version: \"+sm.__version__)\n",
    "%matplotlib inline\n",
    "\n",
    "import tensorflow as tf\n",
    "from tensorflow.keras.models import Sequential\n",
    "from tensorflow.keras.layers import LSTM, GRU, Dense, Dropout, LeakyReLU\n",
    "from tensorflow.keras import layers\n",
    "from tensorflow.keras import optimizers\n",
    "from tensorflow.keras import initializers\n",
    "from tensorflow.keras import callbacks\n",
    "from tensorflow.keras.callbacks import EarlyStopping\n",
    "from tensorflow.keras import losses\n",
    "import sys\n"
   ]
  },
  {
   "cell_type": "code",
   "execution_count": null,
   "metadata": {},
   "outputs": [],
   "source": [
    "tf.keras.backend.clear_session()\n",
    "tf.executing_eagerly()\n",
    "tf.compat.v1.logging.set_verbosity(tf.compat.v1.logging.ERROR)\n",
    "gpus = tf.config.experimental.list_physical_devices('GPU')\n",
    "if gpus:\n",
    "  # Restrict TensorFlow to only use the desired GPU\n",
    "    try:\n",
    "        tf.config.experimental.set_memory_growth(gpus[0], True)\n",
    "        tf.config.experimental.set_visible_devices(gpus[0], 'GPU')\n",
    "        logical_gpus = tf.config.experimental.list_logical_devices('GPU')\n",
    "        print(len(gpus), \"Physical GPUs,\", len(logical_gpus), \"Logical GPU\")\n",
    "        print(\"Memory growth set to: \"+str(tf.config.experimental.get_memory_growth(gpus[0])))\n",
    "    except RuntimeError as e:\n",
    "        # Visible devices must be set before GPUs have been initialized\n",
    "        print(e)"
   ]
  },
  {
   "cell_type": "markdown",
   "metadata": {},
   "source": [
    "## Helper Functions"
   ]
  },
  {
   "cell_type": "code",
   "execution_count": null,
   "metadata": {},
   "outputs": [],
   "source": [
    "#Generate lagged Y to use as input matrix(X) and future lagged Y as output matrix(Y) for the NeuralNet\n",
    "def ts2IF(ts, s, h):\n",
    "    m = ts.shape[0] - s - h + 1\n",
    "    x = pd.DataFrame(np.random.randint(10, size=(m, s)))\n",
    "    y = pd.DataFrame(np.random.randint(10, size=(m, h)))\n",
    "    for i in range(m):\n",
    "        for j in range(x.shape[1]): x.iloc[i, j] = ts[i + j]\n",
    "        for j in range(y.shape[1]): y.iloc[i, j] = ts[i + j + s]\n",
    "    #x['ones'] = np.ones(x.shape[0])                        # add first column of all ones\n",
    "    x.columns = [\"lag\"+str(x) if(x!=0) else \"origY\" for x in range(1,s+1)]\n",
    "#     x.insert(0,\"ones\",np.ones(x.shape[0]).astype(int),True)                # add first column of all ones\n",
    "    return (x, y)\n",
    "\n",
    "def chopr(x,y,te,te_size,tr_size):\n",
    "    te2 = te + te_size\n",
    "    tr = te - tr_size\n",
    "#     print(\"te=\"+str(te))\n",
    "#     print(\"te_size=\"+str(te_size))\n",
    "#     print(\"tr_size=\"+str(tr_size))\n",
    "    x_e = x[te:te2]\n",
    "    y_e = y[te:te2]\n",
    "    x_r = x[tr:te]\n",
    "    y_r = y[tr:te]\n",
    "    \n",
    "#     print(\"test: x_e(\"+str(te)+\" .. \"+str(te2-1)+\")\")\n",
    "#     print(\"test: y_e(\"+str(te)+\" .. \"+str(te2-1)+\")\")\n",
    "#     print(\"train: x_r(\"+str(tr)+\" .. \"+str(te-1)+\")\")\n",
    "#     print(\"train: y_r(\"+str(tr)+\" .. \"+str(te-1)+\")\")\n",
    "    return(x_e, y_e, x_r, y_r)\n",
    "\n",
    "def shift_rm(xy1,xy2, x_test):\n",
    "    d1 = xy1[1].shape[0]\n",
    "    d2 = xy2[1].shape[0]\n",
    "    print(d1)\n",
    "    print(d2)\n",
    "    gap = d1 - d2\n",
    "    x = pd.DataFrame(np.random.randint(10, size=(d1, xy1[0].shape[1])))\n",
    "    y = pd.DataFrame(np.random.randint(10, size=(d1, xy1[1].shape[1])))\n",
    "    new_x_test = pd.DataFrame(np.random.randint(10, size=(x_test.shape[0] - d2, x_test.shape[1])))\n",
    "    for i in range(y.shape[0]):\n",
    "        if i<gap:\n",
    "            for j in range(x.shape[1]): x.iloc[i,j] = xy1[0].iloc[i+d2,j].copy()\n",
    "            y.iloc[i,:] = xy1[1].iloc[i+d2].copy()\n",
    "        else:\n",
    "            for j in range(x.shape[1]): x.iloc[i,j] = xy2[0].iloc[i-gap,j].copy()\n",
    "            y.iloc[i,:] = xy2[1].iloc[i-gap].copy()\n",
    "    for i in range(new_x_test.shape[0]):\n",
    "        for j in range(new_x_test.shape[1]): \n",
    "            new_x_test.iloc[i,j] = x_test.iloc[i+d2,j].copy()\n",
    "#     print(\"old x_r=\"+str(xy1[0].shape))\n",
    "#     print(\"old y_r=\"+str(xy1[1].shape))\n",
    "#     print(\"x_r=\"+str(x.shape))\n",
    "#     print(\"y_r=\"+str(y.shape))\n",
    "#     print(\"old x_e=\"+str(xy2[0].shape))\n",
    "#     print(\"old y_e=\"+str(xy2[1].shape))\n",
    "#     print(\"x_e=\"+str(xy2[0].shape))\n",
    "#     print(\"y_e=\"+str(xy2[1].shape))\n",
    "    x.columns = xy1[0].columns\n",
    "    y.columns = xy1[1].columns\n",
    "    new_x_test.columns = x_test.columns\n",
    "    return(x,y, new_x_test)\n",
    "\n",
    "def new_shift_rm(x_r, y_r, x_e, y_e):\n",
    "    if(isinstance(x_r, np.ndarray)):\n",
    "        x_r = np.delete(x_r, [0], axis=0)\n",
    "        x_r = np.concatenate([x_r, [x_e[0]]])\n",
    "        x_e = np.delete(x_e, [0], axis=0)\n",
    "    else:\n",
    "        x_r = x_r.iloc[1:, :]\n",
    "        x_r = x_r.append(pd.DataFrame([x_e.iloc[0].to_numpy()], columns = x_e.columns))\n",
    "        x_e = x_e.iloc[1:, :]\n",
    "        x_r.reset_index(inplace=True, drop= True)\n",
    "        x_e.reset_index(inplace=True, drop= True)\n",
    "    \n",
    "    y_r = y_r.iloc[1:, :]\n",
    "    y_r = y_r.append(pd.DataFrame([y_e.iloc[0].to_numpy()], columns = y_e.columns))\n",
    "    y_e = y_e.iloc[1:, :]\n",
    "    y_r.reset_index(inplace=True, drop= True)\n",
    "    y_e.reset_index(inplace=True, drop= True)\n",
    "    return (x_r, y_r, x_e, y_e)\n",
    "\n",
    "#Generic Rescale Method\n",
    "from sklearn.preprocessing import minmax_scale, scale\n",
    "def rescale(inp,act_func='tanh'):\n",
    "    if(act_func=='tanh'): return  minmax_scale(inp,feature_range=(-1,1))\n",
    "    if(act_func=='sigmoid'): return  minmax_scale(inp,feature_range=(0,1))\n",
    "    if(act_func=='linear' or act_func=='elu'): return  inp\n",
    "    else: return inp\n",
    "\n",
    "# Reverse scaling\n",
    "# from sklearn.preprocessing import MinMaxScaler\n",
    "# scaler = MinMaxScaler((-1,1))\n",
    "# scaler.fit(lagY)\n",
    "# yp_unscaled = scaler.inverse_transform(yp)\n",
    "# yp_unscaled.shape\n",
    "\n",
    "def eval(y,yp):\n",
    "    import math\n",
    "    roundTo = 5\n",
    "    m = y.shape[0]\n",
    "    e = y - yp\n",
    "    yt = y - y.mean()\n",
    "    sse = e.dot(e)\n",
    "    sst = yt.dot(yt)\n",
    "    rSq = round((1 - ((sse)/(sst))),roundTo)\n",
    "    mape = round(((np.absolute(e)/np.absolute(y)).sum())*100/m,roundTo)\n",
    "    mae = round(((np.absolute(e)).sum())/m,roundTo)\n",
    "    t = (np.absolute(e)/(np.absolute(y)+np.absolute(yp)))\n",
    "#     print(t.sum()*200/m)\n",
    "    smape = round(((np.absolute(e)/(np.absolute(y)+np.absolute(yp))).sum())*200/m,roundTo)\n",
    "    # smape  = 200 * (e.abs / (yy.abs + yp.abs)).sum / m\n",
    "    mse = round((sse/m),roundTo)\n",
    "    rmse = round(math.sqrt(mse),roundTo)\n",
    "#     return(rSq,mape,mse,rmse,sse,sst)\n",
    "    return(format(rSq,'.4f'),format(mape,'.2f'),format(smape,'.2f'),format(mse,'.2f'),format(rmse,'.2f'),format(sse,'.2f'),format(sst,'.2f'), format(mae,'.2f'))\n",
    "\n",
    "def plotHistory(fit_history,ls=\"MAPE\"):\n",
    "    #Get training loss\n",
    "    loss = fit_history.history['loss']\n",
    "    # val_loss = fit_history.history['val_loss']\n",
    "\n",
    "    # Create count of the number of epochs\n",
    "    epoch_count = range(1, len(loss) + 1)\n",
    "\n",
    "#     # Visualize loss history - Plotting Loss vs Number of Epochs during training\n",
    "    plt.figure(num=0,figsize=(6,3))\n",
    "    plt.plot(epoch_count, loss)\n",
    "    # plt.plot(val_loss)\n",
    "    plt.legend(['Training Loss - '+str(ls), 'Validation Loss - '+str(ls)])\n",
    "    plt.xlabel('Epochs')\n",
    "    plt.ylabel(ls)\n",
    "    plt.title(\"Loss vs Epochs\")\n",
    "    plt.show()\n",
    "\n",
    "#     print(\"_________________________________________________________________________________________\")\n",
    "    print(\"Min Training Loss = \" + str(np.min(loss)) + \" \",end='')\n",
    "    print(\"at Epoch \" + str(np.argmin(loss) + 1))\n",
    "    # print(\"Min Validation Loss = \" + str(np.min(val_loss)) + \" \",end='')\n",
    "    # print(\"at Epoch \" + str(np.argmin(val_loss) + 1))\n",
    "#     print(\"__________________________________________________________________________________________\")\n",
    "\n",
    "#Generic Model Build\n",
    "def buildModel(modelName,nfeat,nhidden,act_func='tanh',optimzer=optimizers.Adam(),loss_func='mean_squared_error',dropout=None,horizons=14):\n",
    "#     print(\"Create a \" + modelName + \" with \"+ str(nfeat) +\" input, \"+str(nhidden)+\" hidden nodes\")\n",
    "    model = Sequential()\n",
    "    if modelName == 'perceptron':\n",
    "        model.add(Dense(1,input_dim=nfeat,activation=act_func[0]))                  #1st Hidden Layer - 1 neuron\n",
    "    if modelName == 'NeuralNet_3L':\n",
    "        model.add(Dense(nhidden,input_dim=nfeat,activation=act_func[0]))         #1st Hidden Layer\n",
    "        model.add(Dense(1,activation=act_func[1]))                               #Output Layer\n",
    "    if modelName == 'NeuralNet_3L_MH':\n",
    "        model.add(Dense(nhidden,input_dim=nfeat,activation=act_func[0]))\n",
    "        model.add(Dropout(0.1))\n",
    "        model.add(Dense(14,activation=act_func[1]))                              #Output Layer - MultiHorizon(10)\n",
    "    if modelName == 'NeuralNet_4L':\n",
    "        model.add(Dense(nhidden,input_dim=nfeat,activation=act_func[0]))         #1st Hidden Layer\n",
    "        model.add(Dense(nhidden,activation=act_func[1]))                         #2nd Hidden Layer\n",
    "        if dropout: \n",
    "            model.add(Dropout(dropout))\n",
    "        model.add(Dense(1,activation=act_func[2]))                               #Output Layer\n",
    "    if modelName == 'NeuralNet_4L_MH':\n",
    "        model.add(Dense(nhidden,input_dim=nfeat,activation=act_func[0]))         #1st Hidden Layer\n",
    "        model.add(Dense(nhidden,activation=act_func[1]))                         #2nd Hidden Layer\n",
    "#         if not dropout: model.add(Dropout(dropout))\n",
    "        model.add(Dense(Y.shape[1],activation=act_func[2]))                              #Output Layer - MultiHorizon(10)\n",
    "    # model.compile(loss='mean_absolute_percentage_error', optimizer=optimzer, metrics=['mean_absolute_percentage_error'])\n",
    "    model.compile(loss=loss_func, optimizer=optimzer, metrics=['mean_absolute_percentage_error'])\n",
    "    return model\n",
    "#     model.compile(loss='mean_squared_error', optimizer=optimzer, metrics=['mean_absolute_percentage_error'])\n",
    "#model.add(Dense(nhidden,activation=act_func[0]))   \n",
    "#model.add(LeakyReLU())\n",
    "#model.add(Dropout(0.18))\n",
    "def rollingValidate(model,train,x,y,kt,horizons,callbk,nEpoch,nBatch,plot,p1=False,p2=False,shuffle=False, tr_ratio=0.40808823529):\n",
    "    TR_RATIO = tr_ratio\n",
    "    m = y.shape[0]\n",
    "    tr_size = int(m * TR_RATIO)\n",
    "    te_size = int(m - tr_size)\n",
    "    te = int(tr_size)\n",
    "    if kt < 0: kt = te_size\n",
    "    print(\"m = \"+str(m)+\", tr_size = \"+str(tr_size)+\", te_size = \"+str(te_size)+\", kt = \"+str(kt)+\", horizons = \"+str(horizons))\n",
    "    \n",
    "    (x_e, y_e, x_r, y_r) = chopr (x, y, te, te_size, tr_size)\n",
    "#     x_r = x_r[1000:]\n",
    "#     y_r = y_r[1000:]\n",
    "    print(\"Training shape\"+str(x_r.shape))\n",
    "    print(\"Training shape\"+str(y_r.shape))\n",
    "    print(\"Testing shape\"+str(x_e.shape))\n",
    "    print(\"Testing shape\"+str(y_e.shape))\n",
    "    smapearr = [x for x in range(10,(10+horizons))]\n",
    "#     for h in range(1,horizons+1):\n",
    "# #         print(type(y_r))\n",
    "#         yr =  y_r[h-1]\n",
    "#         inp = y_e[h-1] #.values.tolist()\n",
    "#         yrw = inp[:-h]\n",
    "#         for i in range(h):\n",
    "#             yrw.insert(i,inp[i])\n",
    "#         yrw = np.array(yrw)\n",
    "#         rSqr, maper, smaper, mser, rmser, sser, sstr = eval(y_e[h-1],yrw)\n",
    "#         smapearr[h-1] = smaper\n",
    "\n",
    "    rt = 0\n",
    "#     print(\"number of re-trainings required = \"+str(int((te_size/kt)+1)))\n",
    "    forecast_matrix = pd.DataFrame(columns = y_e.columns)\n",
    "    new_x_e = x_e.copy()\n",
    "    new_y_e = y_e.copy()\n",
    "    fit_history = model.fit(x_r, y_r,validation_split=0.0,shuffle=shuffle,epochs=nEpoch, \\\n",
    "                                        batch_size=nBatch,verbose=0, callbacks=None)#callbacks=[tfa.callbacks.TQDMProgressBar(leave_epoch_progress=False,show_epoch_progress=False)]  workers=10, use_multiprocessing=True,\n",
    "    for i in range(y_e.shape[0]):\n",
    "        print(f\"i: {i} of {y_e.shape[0]}\")\n",
    "        if i%kt == 0:\n",
    "            rt = rt + 1\n",
    "            if train:\n",
    "                print(\"training set: \"+str(x_r.shape))\n",
    "                if callbk==1:\n",
    "                    callb = callbacks.EarlyStopping(monitor='loss', restore_best_weights=True, patience=40,verbose=1)\n",
    "                else: callb = None   #batch_input_shape=(10, 5, 1)\n",
    "#                 fit_history = model.fit(x_r, y_r,validation_split=0.0,shuffle=True,epochs=nEpoch, \\\n",
    "#                                         batch_input_shape=(64, 44, 1),verbose=0, callbacks=callb) #callbacks=[tfa.callbacks.TQDMProgressBar(leave_epoch_progress=False,show_epoch_progress=False)]  workers=10, use_multiprocessing=True,\n",
    "                fit_history = model.fit(x_r, y_r,validation_split=0.0,shuffle=shuffle,epochs=nEpoch, \\\n",
    "                                        batch_size=nBatch,verbose=0, callbacks=callb) #callbacks=[tfa.callbacks.TQDMProgressBar(leave_epoch_progress=False,show_epoch_progress=False)]  workers=10, use_multiprocessing=True,\n",
    "            if plot: plotHistory(fit_history)\n",
    "            \n",
    "        prediction = model.predict(np.array([new_x_e.iloc[0].to_numpy()]))\n",
    "        forecast_matrix = forecast_matrix.append(pd.DataFrame([prediction[0]]))\n",
    "        x_r, y_r, new_x_e, new_y_e = new_shift_rm(x_r, y_r, new_x_e, new_y_e)\n",
    "#     print(\"\\nOut-Sample Results\")\n",
    "#     rw = np.array([2.47,3.79,4.6,5.23,5.75,6.18,6.61,6.94,7.29,7.70]) #RW results - mape for 50% TR\n",
    "    rw = np.array([float(x) for x in smapearr]) #calculated using python\n",
    "    beats = []\n",
    "    prediction = model.predict(x_e,batch_size=x_e.shape[0])\n",
    "#     print(type(prediction))\n",
    "#     print(prediction.shape)\n",
    "#     print(type(y_e))\n",
    "#     print(y_e.shape)\n",
    "#     print(y_e.columns)\n",
    "    rSq  = [x for x in range(y.shape[1])]\n",
    "    mse  = [x for x in range(y.shape[1])]\n",
    "    sse  = [x for x in range(y.shape[1])]\n",
    "    sst  = [x for x in range(y.shape[1])]\n",
    "    rmse = [x for x in range(y.shape[1])]\n",
    "    mape = [x for x in range(y.shape[1])]\n",
    "    smape = [x for x in range(y.shape[1])]\n",
    "    mae = [x for x in range(y.shape[1])]\n",
    "    maxdif = 0\n",
    "    maxdifh = 0\n",
    "    for h in range(1,y.shape[1]+1):\n",
    "        yf = prediction[:,h-1]\n",
    "        rSq[h-1], mape[h-1], smape[h-1], mse[h-1], rmse[h-1], sse[h-1], sst[h-1], mae[h-1] = eval(y_e.values[:,h-1],forecast_matrix.values[:,h-1])\n",
    "        if p1:\n",
    "            print(str(smape[h-1]))  #,str(rw[h-1])\n",
    "#     for h in range(1,y.shape[1]+1):\n",
    "#         yf = prediction[:,h-1]\n",
    "#         rSq[h-1], mape[h-1], smape[h-1], mse[h-1], rmse[h-1], sse[h-1], sst[h-1], mae = eval(y_e.values[:,h-1],yf)\n",
    "#         if p1:\n",
    "#             print(str(smape[h-1]))  #,str(rw[h-1])\n",
    "\n",
    "    return (rSq, mape, smape, mse, rmse, sse, sst, mae, beats, prediction, forecast_matrix, y_e)"
   ]
  },
  {
   "cell_type": "markdown",
   "metadata": {},
   "source": [
    "# Data"
   ]
  },
  {
   "cell_type": "code",
   "execution_count": null,
   "metadata": {},
   "outputs": [],
   "source": [
    "all_data = pd.read_csv(\"D:\\\\Courses\\\\7200-MSProject\\\\NewCovidDataset\\\\owid\\\\2021-08-26-21-42-06-OWID.csv\")\n",
    "data = all_data[['new_deaths']]"
   ]
  },
  {
   "cell_type": "markdown",
   "metadata": {},
   "source": [
    "## Data Augmentation"
   ]
  },
  {
   "cell_type": "code",
   "execution_count": null,
   "metadata": {},
   "outputs": [],
   "source": [
    "sarima_forecasts = pd.read_csv('SARIMAX_IN+OUT_FORECASTS_new_dataset.csv')"
   ]
  },
  {
   "cell_type": "code",
   "execution_count": null,
   "metadata": {},
   "outputs": [],
   "source": [
    "sarima_forecasts = sarima_forecasts[[\"h1\"]]"
   ]
  },
  {
   "cell_type": "code",
   "execution_count": null,
   "metadata": {},
   "outputs": [],
   "source": [
    "orig = data.iloc[38:-1]"
   ]
  },
  {
   "cell_type": "code",
   "execution_count": null,
   "metadata": {},
   "outputs": [],
   "source": [
    "half = pd.DataFrame((data.iloc[38:-1].values.squeeze() + sarima_forecasts.iloc[1:].values.squeeze())/2)\n",
    "# half"
   ]
  },
  {
   "cell_type": "code",
   "execution_count": null,
   "metadata": {},
   "outputs": [],
   "source": [
    "quater = pd.DataFrame((orig.values.squeeze() + half.values.squeeze())/2)\n",
    "# quater"
   ]
  },
  {
   "cell_type": "code",
   "execution_count": null,
   "metadata": {},
   "outputs": [],
   "source": [
    "third_quater = pd.DataFrame((half.values.squeeze() + sarima_forecasts.iloc[1:].values.squeeze())/2)\n",
    "# third_quater"
   ]
  },
  {
   "cell_type": "code",
   "execution_count": null,
   "metadata": {},
   "outputs": [],
   "source": [
    "augmented_ts = np.arange(2*half.shape[0]).tolist()\n",
    "for i in range(0,half.shape[0]):\n",
    "    augmented_ts[2*i] = orig.iloc[i][0]\n",
    "    augmented_ts[2*i+1] = half.iloc[i][0]"
   ]
  },
  {
   "cell_type": "markdown",
   "metadata": {},
   "source": [
    "## Data Visualization"
   ]
  },
  {
   "cell_type": "code",
   "execution_count": null,
   "metadata": {},
   "outputs": [],
   "source": [
    "dates = all_data[\"date\"].values"
   ]
  },
  {
   "cell_type": "code",
   "execution_count": null,
   "metadata": {},
   "outputs": [],
   "source": [
    "def reformat_date(date):\n",
    "    spl = date.split(\"-\")\n",
    "    return spl[1]+\"-\"+spl[0]+\"-\"+spl[2]"
   ]
  },
  {
   "cell_type": "code",
   "execution_count": null,
   "metadata": {},
   "outputs": [],
   "source": [
    "dates = [reformat_date(date) for date in dates]"
   ]
  },
  {
   "cell_type": "code",
   "execution_count": null,
   "metadata": {},
   "outputs": [],
   "source": [
    "ma = all_data.new_deaths.rolling(window=7, center=True).mean()"
   ]
  },
  {
   "cell_type": "code",
   "execution_count": null,
   "metadata": {},
   "outputs": [],
   "source": [
    "xtick = np.arange(0, 582, 14)\n",
    "ytick = np.arange(0, 5000, 500)\n",
    "plt.figure(num=0, figsize=(27,7),dpi=100)\n",
    "# plt.plot(dat.values.squeeze())\n",
    "plt.plot(dates, data.values)\n",
    "plt.plot(ma.values, \"r\")\n",
    "plt.legend(['Original Time Series', '7-day Moving Average'])\n",
    "plt.xlabel('Date')\n",
    "plt.ylabel('Deaths')\n",
    "# x1,x2,y1,y2 = plt.axis()\n",
    "# plt.axis((x1,x2,0,101))\n",
    "plt.yticks(ytick)\n",
    "plt.xticks(xtick, rotation=25)\n",
    "plt.title(\"Time Series Plot - Daily Deaths\")\n",
    "plt.show()"
   ]
  },
  {
   "cell_type": "code",
   "execution_count": null,
   "metadata": {},
   "outputs": [],
   "source": [
    "plt.figure(num=0, figsize=(27,7),dpi=100)\n",
    "plt.plot(augmented_ts)\n",
    "plt.legend(['augmented time series'])\n",
    "plt.xlabel('Time')\n",
    "plt.ylabel('Deaths/Hosp')\n",
    "# x1,x2,y1,y2 = plt.axis()\n",
    "# plt.axis((x1,x2,0,101))\n",
    "# plt.yticks(np.arange(0, 101, 10.0))\n",
    "plt.title(\"Time Series Plot - Response variable\")\n",
    "plt.show()"
   ]
  },
  {
   "cell_type": "markdown",
   "metadata": {},
   "source": [
    "## ACF Plot"
   ]
  },
  {
   "cell_type": "code",
   "execution_count": null,
   "metadata": {},
   "outputs": [],
   "source": [
    "import statsmodels.api as sm\n",
    "import statsmodels.tsa.api as tsa\n",
    "fig = sm.graphics.tsa.plot_acf(orig.values.squeeze())\n",
    "# fig = sm.graphics.tsa.plot_acf(x=np.array(augmented_ts))\n",
    "# fig.suptitle(\"ACF Plot\")\n",
    "axes = fig.axes\n",
    "axes[0].set_title(\"Auto Correlation Function Plot - New Deaths\")\n",
    "axes[0].set_xlabel(\"Lags\")\n",
    "axes[0].set_ylabel(\"Correlation Coefficient\")\n",
    "axes[0].set_xticks(np.arange(0, 31, 3))\n",
    "fig._set_dpi(120)\n",
    "fig.set_size_inches(10,5)\n",
    "fig.show()\n",
    "axes[0].set_yticks(np.arange(0, 1.1, 0.1))\n",
    "fig.savefig(\"./COVID/ACFPlot.png\")"
   ]
  },
  {
   "cell_type": "code",
   "execution_count": null,
   "metadata": {},
   "outputs": [],
   "source": [
    "import statsmodels\n",
    "import statsmodels.api as sm\n",
    "import statsmodels.tsa.api as tsa\n",
    "fig = sm.graphics.tsa.plot_pacf(orig.values.squeeze())\n",
    "# fig = sm.graphics.tsa.plot_acf(x=np.array(augmented_ts))\n",
    "# fig.suptitle(\"ACF Plot\")\n",
    "axes = fig.axes\n",
    "axes[0].set_title(\"Partial Auto Correlation Function - New Deaths\")\n",
    "axes[0].set_xlabel(\"Lags\")\n",
    "axes[0].set_ylabel(\"Correlation Coefficient\")\n",
    "axes[0].set_xticks(np.arange(0, 31, 3))\n",
    "fig._set_dpi(120)\n",
    "fig.set_size_inches(10,5)\n",
    "fig.show()\n",
    "axes[0].set_yticks(np.arange(-0.4, 1.1, 0.1))\n",
    "fig.savefig(\"./COVID/PACFPlot.png\")\n"
   ]
  },
  {
   "cell_type": "code",
   "execution_count": null,
   "metadata": {},
   "outputs": [],
   "source": [
    "import statsmodels.api as sm\n",
    "import statsmodels.tsa.api as tsa\n",
    "fig = sm.graphics.tsa.plot_acf(np.array(augmented_ts))\n",
    "# fig = sm.graphics.tsa.plot_acf(x=np.array(augmented_ts))\n",
    "# fig.suptitle(\"ACF Plot\")\n",
    "axes = fig.axes\n",
    "axes[0].set_title(\"Autocorrelation Plot - Augmented Series\")\n",
    "axes[0].set_xlabel(\"Lags\")\n",
    "axes[0].set_ylabel(\"Correlation Coefficient\")\n",
    "axes[0].set_xticks(np.arange(0, 31, 3))\n",
    "fig._set_dpi(120)\n",
    "fig.set_size_inches(10,5)\n",
    "fig.show()\n",
    "# axes[0].set_yticks(np.arange(0, 1, 0.1))\n",
    "# fig.savefig(\"./COVID/Test.png\")"
   ]
  },
  {
   "cell_type": "code",
   "execution_count": null,
   "metadata": {},
   "outputs": [],
   "source": [
    "import statsmodels.api as sm\n",
    "import statsmodels.tsa.api as tsa\n",
    "fig = sm.graphics.tsa.plot_pacf(np.array(augmented_ts))\n",
    "# fig = sm.graphics.tsa.plot_acf(x=np.array(augmented_ts))\n",
    "# fig.suptitle(\"ACF Plot\")\n",
    "axes = fig.axes\n",
    "axes[0].set_title(\"Autocorrelation Plot - Augmented Series\")\n",
    "axes[0].set_xlabel(\"Lags\")\n",
    "axes[0].set_ylabel(\"Correlation Coefficient\")\n",
    "axes[0].set_xticks(np.arange(0, 31, 3))\n",
    "fig._set_dpi(120)\n",
    "fig.set_size_inches(10,5)\n",
    "fig.show()\n",
    "# axes[0].set_yticks(np.arange(0, 1, 0.1))\n",
    "# fig.savefig(\"./COVID/Test.png\")"
   ]
  },
  {
   "cell_type": "markdown",
   "metadata": {},
   "source": [
    "<hr style=\"border:5px solid white\"> </hr>"
   ]
  },
  {
   "cell_type": "markdown",
   "metadata": {},
   "source": [
    "# Neural Nets"
   ]
  },
  {
   "cell_type": "code",
   "execution_count": null,
   "metadata": {},
   "outputs": [],
   "source": [
    "augmented_ts = np.array(augmented_ts)\n",
    "augmented_ts = np.reshape(augmented_ts,(-1,2))\n",
    "augmented_ts = np.reshape(augmented_ts,(-1,1))\n",
    "augmented_ts.shape"
   ]
  },
  {
   "cell_type": "markdown",
   "metadata": {},
   "source": [
    "### Generating X and Y matrices"
   ]
  },
  {
   "cell_type": "code",
   "execution_count": null,
   "metadata": {},
   "outputs": [],
   "source": [
    "elim_samples = 0\n",
    "lags = 52\n",
    "horizons = 28"
   ]
  },
  {
   "cell_type": "code",
   "execution_count": null,
   "metadata": {},
   "outputs": [],
   "source": [
    "from sklearn.preprocessing import MinMaxScaler\n",
    "from sklearn.preprocessing import StandardScaler\n",
    "scaler = StandardScaler()\n",
    "scaler.fit(augmented_ts)\n",
    "sc = MinMaxScaler(feature_range = (-1, 1))"
   ]
  },
  {
   "cell_type": "code",
   "execution_count": null,
   "metadata": {},
   "outputs": [],
   "source": [
    "lagX, lagY = ts2IF(np.array(orig),lags,horizons)"
   ]
  },
  {
   "cell_type": "code",
   "execution_count": null,
   "metadata": {},
   "outputs": [],
   "source": [
    "lagX, lagY = ts2IF(np.array(augmented_ts),lags,horizons)"
   ]
  },
  {
   "cell_type": "code",
   "execution_count": null,
   "metadata": {},
   "outputs": [],
   "source": [
    "X = pd.DataFrame(lagX)\n",
    "X.columns = lagX.columns\n",
    "feat = X.shape[1]\n",
    "print(X.shape)"
   ]
  },
  {
   "cell_type": "code",
   "execution_count": null,
   "metadata": {},
   "outputs": [],
   "source": [
    "time = [float(x) for x in range(1,X.shape[0]+1)]\n",
    "X['time'] = time"
   ]
  },
  {
   "cell_type": "code",
   "execution_count": null,
   "metadata": {},
   "outputs": [],
   "source": [
    "Y = pd.DataFrame(rescale(lagY,\"linear\"))"
   ]
  },
  {
   "cell_type": "markdown",
   "metadata": {},
   "source": [
    "## Network Architecture Search - RNN"
   ]
  },
  {
   "cell_type": "code",
   "execution_count": null,
   "metadata": {},
   "outputs": [],
   "source": [
    "%%time\n",
    "import autokeras as ak\n",
    "rsX = pd.DataFrame(rescale(X,\"linear\"))\n",
    "lX = rsX.values.reshape(rsX.shape[0],rsX.shape[1],1) #(batch_size, timestep/window, no. features/lags)\n",
    "lY = Y.values.reshape(Y.shape[0],Y.shape[1],1)\n",
    "input_layer = ak.Input()\n",
    "rnn_layer = ak.RNNBlock(layer_type=\"lstm\")(input_layer)\n",
    "dense_layer = ak.DenseBlock()(rnn_layer)\n",
    "output_layer = ak.RegressionHead()(dense_layer)\n",
    "\n",
    "automodel = ak.AutoModel(input_layer, output_layer, max_trials=10, loss='mean_absolute_percentage_error',metrics='mean_absolute_percentage_error',overwrite=True,objective='val_loss', project_name='NAS')\n",
    "automodel.fit(lX, Y.values, validation_split=0.4, epochs=500, batch_size=32, verbose=0)\n",
    "model = automodel.export_model()\n",
    "print(model.summary())\n",
    "rSq1, mape1, smape1, mse1, rmse1, sse1, sst1, beats, prediction, y_e = rollingValidate(model,True,lX,Y,-1,horizons,callbk=1,nEpoch=1\n",
    "                                                                                       ,nBatch=32,plot=True,p1=True,p2=True)"
   ]
  },
  {
   "cell_type": "code",
   "execution_count": null,
   "metadata": {},
   "outputs": [],
   "source": [
    "true_pred = [x for ind,x in enumerate(prediction[:,1].squeeze().tolist()) if (ind+1)%2==0]\n",
    "true_data = [x for ind,x in enumerate(y_e.values.squeeze()[:,1].tolist()) if (ind+1)%2==0]\n",
    "dates = range(1, len(true_data) + 1)\n",
    "# ytick = np.arange(0, 5000, 500)\n",
    "# xtick = np.arange(0, 133, 7)\n",
    "plt.figure(num=0, figsize=(20,8))\n",
    "plt.plot(dates,true_data)\n",
    "plt.plot(dates,true_pred)\n",
    "plt.legend(['True Value','Forecasted Value'])\n",
    "plt.xlabel('Days')\n",
    "plt.ylabel('Daily Deaths')\n",
    "# plt.axis((x1,x2,0,101))\n",
    "# plt.xticks(xtick)\n",
    "# plt.yticks(ytick)\n",
    "plt.title(\"Time Series Plot - Response vs Out-Of-Sample Forecasts(h=1)\")\n",
    "plt.show()"
   ]
  },
  {
   "cell_type": "markdown",
   "metadata": {},
   "source": [
    "<hr style=\"border:2px solid white\"> </hr>"
   ]
  },
  {
   "cell_type": "markdown",
   "metadata": {},
   "source": [
    "## Network Architecture Search - Neural Nets"
   ]
  },
  {
   "cell_type": "code",
   "execution_count": null,
   "metadata": {},
   "outputs": [],
   "source": [
    "feat = X.shape[1]\n",
    "l1 = X.columns.tolist()\n",
    "l2 = ['numerical' for x in l1]\n",
    "# print(l1)\n",
    "# print(l2)\n",
    "col_typ = dict(zip(l1,l2))"
   ]
  },
  {
   "cell_type": "code",
   "execution_count": null,
   "metadata": {},
   "outputs": [],
   "source": [
    "import autokeras as ak\n",
    "reg = ak.StructuredDataRegressor(max_trials=500,column_names=l1,column_types=col_typ, output_dim=Y.shape[1], loss='mean_absolute_percentage_error',metrics='mean_absolute_percentage_error',overwrite=True,objective='val_loss', project_name='NAS')\n",
    "reg.fit(x=X, y=Y, epochs=200, validation_split=0.6, validation_data=None, verbose=0)\n",
    "model = reg.export_model()\n",
    "print(model.summary())"
   ]
  },
  {
   "cell_type": "code",
   "execution_count": null,
   "metadata": {},
   "outputs": [],
   "source": [
    "rSq1, mape1, smape1, mse1, rmse1, sse1, sst1, beats, prediction, y_e = rollingValidate(model,True,X,Y, 5,horizons,callbk=0,nEpoch=200\n",
    "                                                                        ,nBatch=32,plot=False,p1=True,p2=True, shuffle=True)"
   ]
  },
  {
   "cell_type": "code",
   "execution_count": null,
   "metadata": {},
   "outputs": [],
   "source": [
    "model = Sequential()\n",
    "model.add(Dense(32,input_dim=feat, activation='linear', kernel_initializer='he_normal'))\n",
    "model.add(tf.keras.layers.BatchNormalization())\n",
    "model.add(tf.keras.layers.ReLU())\n",
    "# model.add(Dropout(0.1))\n",
    "model.add(Dense(1024,activation='linear', kernel_initializer='he_normal'))\n",
    "model.add(tf.keras.layers.BatchNormalization())\n",
    "model.add(tf.keras.layers.ReLU())\n",
    "# model.add(Dropout(0.1))\n",
    "model.add(Dense(Y.shape[1],activation='linear'))\n",
    "model.compile(loss='mean_absolute_percentage_error', optimizer='Adam', metrics=['mean_absolute_percentage_error'])"
   ]
  },
  {
   "cell_type": "code",
   "execution_count": null,
   "metadata": {},
   "outputs": [],
   "source": [
    "%%time\n",
    "rSq1, mape1, smape1, mse1, rmse1, sse1, sst1, mae1, beats, prediction,fm, y_e = rollingValidate(model,True,X,Y,5,horizons,callbk=0,nEpoch=200\n",
    "                                                                        ,nBatch=32,plot=False,p1=True,p2=True, shuffle=True)"
   ]
  },
  {
   "cell_type": "code",
   "execution_count": null,
   "metadata": {},
   "outputs": [],
   "source": [
    "true_pred = [x for ind,x in enumerate(prediction[:,0].squeeze().tolist()) if (ind+1)%2==0]\n",
    "true_data = [x for ind,x in enumerate(y_e.values.squeeze()[:,0].tolist()) if (ind+1)%2==0]\n",
    "dates = range(1, len(true_data) + 1)\n",
    "# ytick = np.arange(0, 5000, 500)\n",
    "# xtick = np.arange(0, 133, 7)\n",
    "plt.figure(num=0, figsize=(20,8))\n",
    "plt.plot(dates,true_data)\n",
    "plt.plot(dates,true_pred)\n",
    "plt.legend(['True Value','Forecasted Value'])\n",
    "plt.xlabel('Days')\n",
    "plt.ylabel('Daily Deaths')\n",
    "# plt.axis((x1,x2,0,101))\n",
    "# plt.xticks(xtick)\n",
    "# plt.yticks(ytick)\n",
    "plt.title(\"Time Series Plot - Response vs Out-Of-Sample Forecasts(h=1)\")\n",
    "plt.show()"
   ]
  },
  {
   "cell_type": "code",
   "execution_count": null,
   "metadata": {},
   "outputs": [],
   "source": [
    "# Data Pre-Processing for LSTM\n",
    "import copy\n",
    "X_np = copy.deepcopy(X.values.tolist())\n",
    "for i in range(X.shape[0]):\n",
    "    new_dim = copy.copy(X_np[i])\n",
    "#     print(new_dim)\n",
    "#     if i==5: break\n",
    "    for j in range(X.shape[1]):\n",
    "        X_np[i][j] = new_dim\n",
    "#         print(X_np[i][j])\n",
    "X_np1 = np.array(X_np)\n",
    "print(X_np1.shape)\n",
    "lX = rescale(X_np1,\"linear\")\n",
    "# lX = rsX.values.reshape(rsX.shape[0],rsX.shape[1],1) #(batch_size, timestep/window, no. features/lags)\n",
    "print(lX.shape)"
   ]
  },
  {
   "cell_type": "code",
   "execution_count": null,
   "metadata": {},
   "outputs": [],
   "source": [
    "#Build RNN - Generic\n",
    "from tensorflow.keras.layers import TimeDistributed, Bidirectional, RepeatVector\n",
    "from tensorflow.keras.optimizers import Adamax\n",
    "\n",
    "def buildRNN(modelName,nUnits,act_func='linear',optimzer=Adamax(learning_rate=0.005, beta_1=0.9, beta_2=0.999, epsilon=1e-07)):\n",
    "#     print(\"Create a \" + modelName + \" with \"+ str(nUnits) +\" units and 10 output nodes\")\n",
    "    model = Sequential()\n",
    "    if modelName == 'GRU':\n",
    "        model.add(GRU(nUnits, input_shape=(lX.shape[1], lX.shape[2])))\n",
    "    if modelName == 'LSTM':\n",
    "        model.add(GRU(256, activation='relu', return_sequences=True, input_shape=(lX.shape[1], lX.shape[2])))\n",
    "#         model.add(RepeatVector(28))\n",
    "        model.add(GRU(92, activation='relu', return_sequences=True))\n",
    "#         model.add(RepeatVector(28))\n",
    "        model.add(GRU(128, activation='relu'))\n",
    "#         model.add(RepeatVector(28))\n",
    "    model.add(Dense(28))  \n",
    "    model.compile(loss='mean_absolute_percentage_error', optimizer='adamax', metrics=['mean_absolute_percentage_error'])\n",
    "#     model.compile(loss='mean_squared_error', optimizer=optimzer, metrics=['mean_squared_error'])\n",
    "    model.build((None,lX.shape[1], lX.shape[2]))\n",
    "    print(model.summary())\n",
    "    return model"
   ]
  }
 ],
 "metadata": {
  "kernelspec": {
   "display_name": "Python 3",
   "language": "python",
   "name": "python3"
  },
  "language_info": {
   "codemirror_mode": {
    "name": "ipython",
    "version": 3
   },
   "file_extension": ".py",
   "mimetype": "text/x-python",
   "name": "python",
   "nbconvert_exporter": "python",
   "pygments_lexer": "ipython3",
   "version": "3.8.5"
  }
 },
 "nbformat": 4,
 "nbformat_minor": 4
}
